{
 "cells": [
  {
   "cell_type": "code",
   "execution_count": null,
   "metadata": {},
   "outputs": [],
   "source": [
    "'''\n",
    "A message containing letters from A-Z is being encoded to numbers using the following mapping:\n",
    "\n",
    "'A' -> 1\n",
    "'B' -> 2\n",
    "...\n",
    "'Z' -> 26\n",
    "Given a non-empty string containing only digits, determine the total number of ways to decode it.\n",
    "\n",
    "Example 1:\n",
    "\n",
    "Input: \"12\"\n",
    "Output: 2\n",
    "Explanation: It could be decoded as \"AB\" (1 2) or \"L\" (12).\n",
    "Example 2:\n",
    "\n",
    "Input: \"226\"\n",
    "Output: 3\n",
    "Explanation: It could be decoded as \"BZ\" (2 26), \"VF\" (22 6), or \"BBF\" (2 2 6).\n",
    "\n",
    "'''\n",
    "\n",
    "class Solution:\n",
    "    def numDecodings(self, s):\n",
    "        \"\"\"\n",
    "        :type s: str\n",
    "        :rtype: int\n",
    "        \"\"\"\n",
    "        if len(s)==0 or s[0]=='0':\n",
    "            return 0 \n",
    "        dp=[0]*(len(s)+1)\n",
    "        dp[0]=1\n",
    "        dp[1]=1\n",
    "        for i in range(2,len(s)+1):\n",
    "            if int(s[i-2:i])>=10 and int(s[i-2:i])<=26 and s[i-1]!='0':\n",
    "                dp[i]=dp[i-1]+dp[i-2]\n",
    "            elif (int(s[i-2:i])>26 or int(s[i-2:i])<10) and s[i-1]!='0':\n",
    "                dp[i]=dp[i-1]\n",
    "            elif int(s[i-2:i])>=10 and int(s[i-2:i])<=26 and s[i-1]=='0':\n",
    "                dp[i]=dp[i-2]\n",
    "            else:\n",
    "                return 0\n",
    "        return dp[len(s)]"
   ]
  }
 ],
 "metadata": {
  "kernelspec": {
   "display_name": "Python 3",
   "language": "python",
   "name": "python3"
  },
  "language_info": {
   "codemirror_mode": {
    "name": "ipython",
    "version": 3
   },
   "file_extension": ".py",
   "mimetype": "text/x-python",
   "name": "python",
   "nbconvert_exporter": "python",
   "pygments_lexer": "ipython3",
   "version": "3.5.2"
  }
 },
 "nbformat": 4,
 "nbformat_minor": 2
}
