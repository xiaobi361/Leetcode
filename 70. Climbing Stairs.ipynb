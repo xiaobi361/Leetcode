{
 "cells": [
  {
   "cell_type": "code",
   "execution_count": null,
   "metadata": {},
   "outputs": [],
   "source": [
    "'''\n",
    "You are climbing a stair case. It takes n steps to reach to the top.\n",
    "\n",
    "Each time you can either climb 1 or 2 steps. In how many distinct ways can you climb to the top?\n",
    "\n",
    "Note: Given n will be a positive integer.\n",
    "\n",
    "Example 1:\n",
    "\n",
    "Input: 2\n",
    "Output: 2\n",
    "Explanation: There are two ways to climb to the top.\n",
    "1. 1 step + 1 step\n",
    "2. 2 steps\n",
    "Example 2:\n",
    "\n",
    "Input: 3\n",
    "Output: 3\n",
    "Explanation: There are three ways to climb to the top.\n",
    "1. 1 step + 1 step + 1 step\n",
    "2. 1 step + 2 steps\n",
    "3. 2 steps + 1 step\n",
    "'''\n",
    "\n",
    "class Solution(object):\n",
    "    def climbStairs(self, n):\n",
    "        \"\"\"\n",
    "        :type n: int\n",
    "        :rtype: int\n",
    "        \"\"\"\n",
    "        f_=[]\n",
    "        f_.append(1)\n",
    "        f_.append(2)\n",
    "        for i in range(2,n):\n",
    "            f_.append(f_[i-1]+f_[i-2])\n",
    "        return f_[n-1]\n",
    "        \n",
    "\n"
   ]
  }
 ],
 "metadata": {
  "kernelspec": {
   "display_name": "Python 3",
   "language": "python",
   "name": "python3"
  },
  "language_info": {
   "codemirror_mode": {
    "name": "ipython",
    "version": 3
   },
   "file_extension": ".py",
   "mimetype": "text/x-python",
   "name": "python",
   "nbconvert_exporter": "python",
   "pygments_lexer": "ipython3",
   "version": "3.5.0"
  }
 },
 "nbformat": 4,
 "nbformat_minor": 2
}
