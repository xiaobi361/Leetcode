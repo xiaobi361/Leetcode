{
 "cells": [
  {
   "cell_type": "code",
   "execution_count": null,
   "metadata": {},
   "outputs": [],
   "source": [
    "'''\n",
    "Given a string s, find the longest palindromic substring in s. You may assume that the maximum length of s is 1000.\n",
    "\n",
    "Example 1:\n",
    "\n",
    "Input: \"babad\"\n",
    "Output: \"bab\"\n",
    "Note: \"aba\" is also a valid answer.\n",
    "Example 2:\n",
    "\n",
    "Input: \"cbbd\"\n",
    "Output: \"bb\"\n",
    "'''\n",
    "\n",
    "class Solution:\n",
    "    def longestPalindrome(self, s):\n",
    "        \"\"\"\n",
    "        :type s: str\n",
    "        :rtype: str\n",
    "        \"\"\"\n",
    "        matrix = [[0]*len(s) for i in range(len(s))]\n",
    "        left=0\n",
    "        right=0\n",
    "        maxlen=0\n",
    "        for j in range(len(s)):\n",
    "            matrix[j][j]=1\n",
    "            for i in range(j):\n",
    "                if s[i] == s[j] and (j-i<2 or matrix[i+1][j-1]==1):\n",
    "                    matrix[i][j]=1\n",
    "                    if maxlen<j-i+1 and matrix[i][j]==1:\n",
    "                        left=i\n",
    "                        right=j\n",
    "                        maxlen=j-i+1\n",
    "        return s[left:right+1]"
   ]
  }
 ],
 "metadata": {
  "kernelspec": {
   "display_name": "Python 3",
   "language": "python",
   "name": "python3"
  },
  "language_info": {
   "codemirror_mode": {
    "name": "ipython",
    "version": 3
   },
   "file_extension": ".py",
   "mimetype": "text/x-python",
   "name": "python",
   "nbconvert_exporter": "python",
   "pygments_lexer": "ipython3",
   "version": "3.5.2"
  }
 },
 "nbformat": 4,
 "nbformat_minor": 2
}
